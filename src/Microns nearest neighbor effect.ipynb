{
 "cells": [
  {
   "cell_type": "code",
   "execution_count": 2,
   "metadata": {},
   "outputs": [],
   "source": [
    "import json\n",
    "import os\n",
    "import numpy\n",
    "import pandas\n",
    "import copy\n",
    "import conntility, connalysis\n",
    "\n",
    "from scipy.spatial import KDTree\n",
    "from pnagm import util, nngraph, instance, test\n",
    "\n",
    "from matplotlib import pyplot as plt\n",
    "\n"
   ]
  },
  {
   "cell_type": "code",
   "execution_count": 112,
   "metadata": {},
   "outputs": [],
   "source": [
    "analze_direction = \"incoming\""
   ]
  },
  {
   "cell_type": "code",
   "execution_count": 17,
   "metadata": {},
   "outputs": [
    {
     "name": "stdout",
     "output_type": "stream",
     "text": [
      "\n",
      "A reference connectome is expected at path microns_mm3_connectome_v1181.h5,\n",
      "          please place it there or update the path in the configuration file!\n",
      "\n",
      "12881\n"
     ]
    }
   ],
   "source": [
    "config_fn = \"../configs/pnagm_L45E_microns_yscale_experimental_v1p5.json\"\n",
    "bin_sz = 20.0\n",
    "\n",
    "with open(config_fn, \"r\") as fid:\n",
    "    cfg = json.load(fid)\n",
    "\n",
    "if \"fn\" in cfg[\"make_points\"]:\n",
    "    microns_fn = cfg[\"make_points\"][\"fn\"]\n",
    "    print(\"\"\"\n",
    "A reference connectome is expected at path {0},\n",
    "          please place it there or update the path in the configuration file!\n",
    "\"\"\".format(microns_fn))\n",
    "    \n",
    "    # For internal use only :)\n",
    "    microns_connectome_prefix = \"/Users/mwr/Documents/artefacts/connectomes\"\n",
    "    cfg[\"make_points\"][\"fn\"] = os.path.join(microns_connectome_prefix, cfg[\"make_points\"][\"fn\"])\n",
    "\n",
    "pts, microns = util.points_from_microns(cfg[\"make_points\"])\n",
    "reference = microns.matrix > 0"
   ]
  },
  {
   "cell_type": "code",
   "execution_count": 7,
   "metadata": {},
   "outputs": [],
   "source": [
    "M = microns.array.astype(bool)"
   ]
  },
  {
   "cell_type": "code",
   "execution_count": null,
   "metadata": {},
   "outputs": [],
   "source": [
    "DD = test.DDtest(microns)\n",
    "\n",
    "bin_centers = 0.5 * (test.dbins[1:] + test.dbins[:-1])\n",
    "\n",
    "p = DD.for_matrix(reference)\n",
    "logp = numpy.log(p)\n",
    "valid = ~(numpy.isnan(logp) | numpy.isinf(logp))\n",
    "f_params = numpy.polyfit(bin_centers[valid], logp[valid], 1)\n",
    "\n",
    "a = numpy.exp(f_params[1])\n",
    "b = -f_params[0]\n",
    "\n",
    "ctrl_instance = connalysis.randomization.run_DD2(len(DD.m), a, b, DD.m.vertices[[\"x\", \"y\", \"z\"]].values)\n",
    "ctrl_instance = numpy.array(ctrl_instance.astype(bool).todense())"
   ]
  },
  {
   "cell_type": "code",
   "execution_count": 13,
   "metadata": {},
   "outputs": [],
   "source": [
    "xyz = microns.vertices[[\"x\", \"y\", \"z\"]].values\n",
    "\n",
    "deltas = xyz.reshape((-1, 1, 3)) - xyz.reshape((1, -1, 3))\n",
    "dy = deltas[:, :, 1]\n",
    "dh = numpy.sqrt((deltas[:, :, [0, 2]] ** 2).sum(axis=2))"
   ]
  },
  {
   "cell_type": "code",
   "execution_count": 53,
   "metadata": {},
   "outputs": [],
   "source": [
    "bins_y = numpy.arange(0, numpy.max(numpy.abs(dy)) + bin_sz, bin_sz)\n",
    "bins_y = numpy.hstack([-bins_y[-1:0:-1], bins_y])\n",
    "bin_idx_y = numpy.arange(len(bins_y))\n",
    "\n",
    "bins_h = numpy.arange(0, numpy.max(dh) + bin_sz, bin_sz)\n",
    "bin_idx_h = numpy.arange(len(bins_h))\n",
    "\n",
    "Dy = numpy.digitize(dy, bins=bins_y)\n",
    "numpy.fill_diagonal(Dy, -1)\n",
    "Dh = numpy.digitize(dh, bins=bins_h)\n",
    "numpy.fill_diagonal(Dh, -1)"
   ]
  },
  {
   "cell_type": "code",
   "execution_count": 113,
   "metadata": {},
   "outputs": [],
   "source": [
    "tree = KDTree(xyz)\n",
    "\n",
    "_, neigh_idx = tree.query(xyz, [2])\n",
    "neigh_idx = neigh_idx[:, 0]\n",
    "\n",
    "if analze_direction == \"outgoing\":\n",
    "    # NN connectivity. Entry at i, j: Existence of a connection from i to the nearest neighbor of j\n",
    "    Mneigh = M[:, neigh_idx]\n",
    "    Ctrlneigh = ctrl_instance[:, neigh_idx]\n",
    "elif analze_direction == \"incoming\":\n",
    "    # NN connectivity. Entry at i, j: Existence of a connection from the nearest neighbor of i to j\n",
    "    Mneigh = M[neigh_idx, :]\n",
    "    Ctrlneigh = ctrl_instance[neigh_idx, :]\n",
    "else:\n",
    "    raise ValueError()\n",
    "\n"
   ]
  },
  {
   "cell_type": "code",
   "execution_count": 114,
   "metadata": {},
   "outputs": [],
   "source": [
    "df = pandas.DataFrame({\n",
    "    \"dy\": Dy.flatten(),\n",
    "    \"dh\": Dh.flatten(),\n",
    "    \"M\": M.flatten(),\n",
    "    \"Mneigh\": Mneigh.flatten(),\n",
    "    \"C\": ctrl_instance.flatten(),\n",
    "    \"Cneigh\": Ctrlneigh.flatten()\n",
    "})\n",
    "df = df[df[\"dy\"] > -1]"
   ]
  },
  {
   "cell_type": "code",
   "execution_count": 115,
   "metadata": {},
   "outputs": [],
   "source": [
    "I = df.groupby([\"dh\", \"dy\"])[\"M\"].mean()\n",
    "counts = df.groupby([\"dh\", \"dy\"])[\"M\"].count()\n",
    "I[counts < 50] = numpy.nan\n",
    "\n",
    "I = I.unstack(\"dh\").reindex(index=bin_idx_y, columns=bin_idx_h)\n",
    "\n",
    "Inn = df.groupby([\"Mneigh\", \"dh\", \"dy\"])[\"M\"].mean()\n",
    "counts = df.groupby([\"Mneigh\", \"dh\", \"dy\"])[\"M\"].count()\n",
    "Inn[counts < 50] = numpy.nan\n",
    "\n",
    "Inn_con = Inn.loc[True].unstack(\"dh\").reindex(index=bin_idx_y, columns=bin_idx_h)\n",
    "Inn_uncon = Inn.loc[False].unstack(\"dh\").reindex(index=bin_idx_y, columns=bin_idx_h)"
   ]
  },
  {
   "cell_type": "code",
   "execution_count": 116,
   "metadata": {},
   "outputs": [],
   "source": [
    "J = df.groupby([\"dh\", \"dy\"])[\"C\"].mean()\n",
    "counts = df.groupby([\"dh\", \"dy\"])[\"C\"].count()\n",
    "J[counts < 50] = numpy.nan\n",
    "J = J.unstack(\"dh\").reindex(index=bin_idx_y, columns=bin_idx_h)\n",
    "\n",
    "Jnn = df.groupby([\"Cneigh\", \"dh\", \"dy\"])[\"C\"].mean()\n",
    "counts = df.groupby([\"Cneigh\", \"dh\", \"dy\"])[\"C\"].count()\n",
    "Jnn[counts < 50] = numpy.nan\n",
    "\n",
    "Jnn_con = Jnn.loc[True].unstack(\"dh\").reindex(index=bin_idx_y, columns=bin_idx_h)\n",
    "Jnn_uncon = Jnn.loc[False].unstack(\"dh\").reindex(index=bin_idx_y, columns=bin_idx_h)"
   ]
  },
  {
   "cell_type": "code",
   "execution_count": 117,
   "metadata": {},
   "outputs": [
    {
     "data": {
      "image/png": "[encoded data removed]",
      "text/plain": [
       "<Figure size 400x200 with 4 Axes>"
      ]
     },
     "metadata": {},
     "output_type": "display_data"
    }
   ],
   "source": [
    "fig = plt.figure(figsize=(4, 2))\n",
    "axes = fig.subplots(1, 2, sharex=True, sharey=True)\n",
    "axes[0].set_xlim([0, 400]); axes[0].set_ylim([-400, 400])\n",
    "\n",
    "ax = axes[0]\n",
    "plt.colorbar(ax.imshow(I, clim=(0, 0.2),\n",
    "           extent=(bins_h[0], bins_h[-1], bins_y[-1], bins_y[0])),\n",
    "           label=\"P\")\n",
    "ax.set_frame_on(False)\n",
    "ax.set_xlabel(\"um\")\n",
    "ax.set_ylabel(\"um\")\n",
    "\n",
    "ax = axes[1]\n",
    "plt.colorbar(ax.imshow(Inn_con, clim=(0, 0.2),\n",
    "           extent=(bins_h[0], bins_h[-1], bins_y[-1], bins_y[0])),\n",
    "           label=\"P\")\n",
    "ax.set_frame_on(False)\n",
    "ax.set_xlabel(\"um\")\n",
    "\n",
    "fig.savefig(\"plots_1/motivation_microns_data_{0}.pdf\".format(analze_direction))"
   ]
  },
  {
   "cell_type": "code",
   "execution_count": 118,
   "metadata": {},
   "outputs": [
    {
     "data": {
      "image/png": "[encoded data removed]",
      "text/plain": [
       "<Figure size 400x200 with 4 Axes>"
      ]
     },
     "metadata": {},
     "output_type": "display_data"
    }
   ],
   "source": [
    "fig = plt.figure(figsize=(4, 2))\n",
    "axes = fig.subplots(1, 2, sharex=True, sharey=True)\n",
    "axes[0].set_xlim([0, 400]); axes[0].set_ylim([-400, 400])\n",
    "\n",
    "ax = axes[0]\n",
    "plt.colorbar(ax.imshow(J, clim=(0, 0.2),\n",
    "           extent=(bins_h[0], bins_h[-1], bins_y[-1], bins_y[0])),\n",
    "           label=\"P\")\n",
    "ax.set_frame_on(False)\n",
    "ax.set_xlabel(\"um\")\n",
    "ax.set_ylabel(\"um\")\n",
    "\n",
    "ax = axes[1]\n",
    "plt.colorbar(ax.imshow(Jnn_con, clim=(0, 0.2),\n",
    "           extent=(bins_h[0], bins_h[-1], bins_y[-1], bins_y[0])),\n",
    "           label=\"P\")\n",
    "ax.set_frame_on(False)\n",
    "ax.set_xlabel(\"um\")\n",
    "\n",
    "fig.savefig(\"plots_1/motivation_dd_control_{0}.pdf\".format(analze_direction))"
   ]
  }
 ],
 "metadata": {
  "kernelspec": {
   "display_name": "connalysis",
   "language": "python",
   "name": "python3"
  },
  "language_info": {
   "codemirror_mode": {
    "name": "ipython",
    "version": 3
   },
   "file_extension": ".py",
   "mimetype": "text/x-python",
   "name": "python",
   "nbconvert_exporter": "python",
   "pygments_lexer": "ipython3",
   "version": "3.9.6"
  }
 },
 "nbformat": 4,
 "nbformat_minor": 2
}
