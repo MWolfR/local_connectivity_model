{
 "cells": [
  {
   "cell_type": "code",
   "execution_count": null,
   "id": "a137c446",
   "metadata": {},
   "outputs": [],
   "source": [
    "import conntility\n",
    "\n",
    "\n",
    "# Version 1412 of the MICrONS data.\n",
    "fn = \"microns_con_mat_multi.h5\"\n",
    "M = conntility.ConnectivityMatrix.from_h5(fn)\n",
    "M = M.compress()\n",
    "\n",
    "# Which types indicate a L5 excitatory neuron?\n",
    "lst_L5PC_types = [\"L5ET\", \"L5a\", \"L5b\", \"L5NP\"]\n",
    "# What is the name of the neuron property we compare the list above against?\n",
    "prop_neuron_type = \"mtype\" "
   ]
  },
  {
   "cell_type": "code",
   "execution_count": 5,
   "id": "59580f94",
   "metadata": {},
   "outputs": [
    {
     "name": "stdout",
     "output_type": "stream",
     "text": [
      "1871 proofread neurons\n"
     ]
    }
   ],
   "source": [
    "M = M.index(\"status_axon\").eq(\"t\").index(\"status_dendrite\").eq(\"t\")\n",
    "print(f\"{len(M)} proofread neurons\")"
   ]
  },
  {
   "cell_type": "code",
   "execution_count": null,
   "id": "3ba7c201",
   "metadata": {},
   "outputs": [
    {
     "name": "stdout",
     "output_type": "stream",
     "text": [
      "189 proofread EXC neurons in L5\n"
     ]
    }
   ],
   "source": [
    "M = M.index(prop_neuron_type).isin(lst_L5PC_types)\n",
    "print(f\"{len(M)} proofread EXC neurons in L5\")\n"
   ]
  },
  {
   "cell_type": "markdown",
   "id": "80a8addb",
   "metadata": {},
   "source": [
    "Overall connection probability. Due to the non-random distribution of proofread neurons in space, this is largely meaningless."
   ]
  },
  {
   "cell_type": "code",
   "execution_count": null,
   "id": "7457ea6b",
   "metadata": {},
   "outputs": [
    {
     "name": "stdout",
     "output_type": "stream",
     "text": [
      "1263 out of 35532 neurons are connected, leading to a probasbility of 0.03554542384329618\n"
     ]
    }
   ],
   "source": [
    "npairs = len(M) * (len(M) - 1)\n",
    "nconnected = M.matrix.nnz\n",
    "\n",
    "print(f\"{nconnected} out of {npairs} neurons are connected, leading to a probability of {nconnected/npairs}\")"
   ]
  },
  {
   "cell_type": "markdown",
   "id": "38a4585b",
   "metadata": {},
   "source": [
    "Connection probability within 100 um"
   ]
  },
  {
   "cell_type": "code",
   "execution_count": 17,
   "id": "22fb8b7b",
   "metadata": {},
   "outputs": [
    {
     "name": "stdout",
     "output_type": "stream",
     "text": [
      "872 out of 13458 neurons are connected, leading to a probability of 0.06479417446871749\n"
     ]
    }
   ],
   "source": [
    "from scipy.spatial.distance import squareform, pdist\n",
    "\n",
    "D = squareform(pdist(M.vertices[[\"x\", \"y\", \"z\"]]))\n",
    "mask = (D > 0) & (D < 100)\n",
    "npairs = mask.sum()\n",
    "nconnected = M.matrix.astype(bool).tocsc()[mask].sum()\n",
    "\n",
    "print(f\"{nconnected} out of {npairs} neurons are connected, leading to a probability of {nconnected/npairs}\")"
   ]
  }
 ],
 "metadata": {
  "kernelspec": {
   "display_name": ".venv (3.12.8)",
   "language": "python",
   "name": "python3"
  },
  "language_info": {
   "codemirror_mode": {
    "name": "ipython",
    "version": 3
   },
   "file_extension": ".py",
   "mimetype": "text/x-python",
   "name": "python",
   "nbconvert_exporter": "python",
   "pygments_lexer": "ipython3",
   "version": "3.12.8"
  }
 },
 "nbformat": 4,
 "nbformat_minor": 5
}
